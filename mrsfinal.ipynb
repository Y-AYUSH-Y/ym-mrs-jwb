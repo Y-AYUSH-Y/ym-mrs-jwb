{
 "cells": [
  {
   "cell_type": "code",
   "execution_count": null,
   "metadata": {
    "executionInfo": {
     "elapsed": 502,
     "status": "ok",
     "timestamp": 1732716106079,
     "user": {
      "displayName": "Sinon",
      "userId": "16288430148689218724"
     },
     "user_tz": -330
    },
    "id": "Ec-_k3hn6kjU"
   },
    }
   ],
   "source": [
    "import pandas as pd\n",
    "import numpy as np"
   ]
  },
  {
   "cell_type": "code",
   "execution_count": null,
   "metadata": {
    "colab": {
     "base_uri": "https://localhost:8080/"
    },
    "executionInfo": {
     "elapsed": 2783,
     "status": "ok",
     "timestamp": 1732716393899,
     "user": {
      "displayName": "Sinon",
      "userId": "16288430148689218724"
     },
     "user_tz": -330
    },
    "id": "QS2I20le6kjV",
    "outputId": "84ab0a5f-d597-46d4-d119-b5491a890d8a"
   },
   "outputs": [],
   "source": [
    "movie_genre = pd.read_csv(\"MovieGenre.csv\", encoding='latin1')\n",
    "movie_details = pd.read_csv(\"AllMoviesDetailsCleaned.csv\", sep=';', encoding='latin1')"
   ]
  },
  {
   "cell_type": "code",
   "execution_count": null,
   "metadata": {
    "colab": {
     "base_uri": "https://localhost:8080/"
    },
    "executionInfo": {
     "elapsed": 398,
     "status": "ok",
     "timestamp": 1732716397230,
     "user": {
      "displayName": "Sinon",
      "userId": "16288430148689218724"
     },
     "user_tz": -330
    },
    "id": "5PWKsrYh6kjV",
    "outputId": "cdfd46f8-84d9-411e-e190-ed96c22994da"
   },
   "outputs": [],
   "source": [
    "print(movie_details.head(0))\n",
    "print(movie_genre.head(0))"
   ]
  },
  {
   "cell_type": "code",
   "execution_count": null,
   "metadata": {
    "executionInfo": {
     "elapsed": 396,
     "status": "ok",
     "timestamp": 1732716399908,
     "user": {
      "displayName": "Sinon",
      "userId": "16288430148689218724"
     },
     "user_tz": -330
    },
    "id": "DgTXyM4o_txJ"
   },
   "outputs": [],
   "source": [
    "movie_details = movie_details[[\"imdb_id\",\"title\",\"genres\",\"original_language\",\"overview\"]]\n",
    "movie_genre = movie_genre[[\"imdbId\",\"Poster\"]]"
   ]
  },
  {
   "cell_type": "code",
   "execution_count": null,
   "metadata": {
    "colab": {
     "base_uri": "https://localhost:8080/"
    },
    "executionInfo": {
     "elapsed": 415,
     "status": "ok",
     "timestamp": 1732716402738,
     "user": {
      "displayName": "Sinon",
      "userId": "16288430148689218724"
     },
     "user_tz": -330
    },
    "id": "RGvH8yJF_xZW",
    "outputId": "cdfa0103-38e2-4ab1-bd95-1784dbd2dbe1"
   },
   "outputs": [],
   "source": [
    "movie_genre = movie_genre.rename(columns={movie_genre.columns[0]: \"imdb_id\", movie_genre.columns[1]:\"posters\"})\n",
    "print(movie_genre.head(0))"
   ]
  },
  {
   "cell_type": "code",
   "execution_count": null,
   "metadata": {
    "colab": {
     "base_uri": "https://localhost:8080/",
     "height": 458
    },
    "executionInfo": {
     "elapsed": 524,
     "status": "ok",
     "timestamp": 1732716404723,
     "user": {
      "displayName": "Sinon",
      "userId": "16288430148689218724"
     },
     "user_tz": -330
    },
    "id": "JyLOEDPY9py2",
    "outputId": "eb8bac89-5d27-485e-8b9d-6c0fa26ae1cd"
   },
   "outputs": [],
   "source": [
    "movie_genre[\"imdb_id\"]"
   ]
  },
  {
   "cell_type": "code",
   "execution_count": null,
   "metadata": {
    "colab": {
     "base_uri": "https://localhost:8080/",
     "height": 458
    },
    "executionInfo": {
     "elapsed": 418,
     "status": "ok",
     "timestamp": 1732716407889,
     "user": {
      "displayName": "Sinon",
      "userId": "16288430148689218724"
     },
     "user_tz": -330
    },
    "id": "Ao8qMpJm9eA3",
    "outputId": "7e048d4b-8ccd-4341-e6f7-b3d39667bf69"
   },
   "outputs": [],
   "source": [
    "movie_details[\"imdb_id\"]"
   ]
  },
  {
   "cell_type": "code",
   "execution_count": null,
   "metadata": {
    "executionInfo": {
     "elapsed": 414,
     "status": "ok",
     "timestamp": 1732716411366,
     "user": {
      "displayName": "Sinon",
      "userId": "16288430148689218724"
     },
     "user_tz": -330
    },
    "id": "eOmstm9_7QWc"
   },
   "outputs": [],
   "source": [
    "movie_genre['imdb_id_formatted'] = movie_genre['imdb_id'].apply(lambda x: f\"tt{x:07d}\")"
   ]
  },
  {
   "cell_type": "code",
   "execution_count": null,
   "metadata": {
    "executionInfo": {
     "elapsed": 457,
     "status": "ok",
     "timestamp": 1732716413532,
     "user": {
      "displayName": "Sinon",
      "userId": "16288430148689218724"
     },
     "user_tz": -330
    },
    "id": "WQ362XDI4SJz"
   },
   "outputs": [],
   "source": [
    "movies = movie_genre.merge(movie_details, left_on='imdb_id_formatted', right_on='imdb_id', how='inner')\n"
   ]
  },
  {
   "cell_type": "code",
   "execution_count": null,
   "metadata": {
    "colab": {
     "base_uri": "https://localhost:8080/"
    },
    "executionInfo": {
     "elapsed": 5,
     "status": "ok",
     "timestamp": 1732716415250,
     "user": {
      "displayName": "Sinon",
      "userId": "16288430148689218724"
     },
     "user_tz": -330
    },
    "id": "9XKm55li4zvi",
    "outputId": "fd2cea63-50b7-40bd-b3e1-5c76bb7157ad"
   },
   "outputs": [],
   "source": [
    "print(movies.head(1))"
   ]
  },
  {
   "cell_type": "code",
   "execution_count": null,
   "metadata": {
    "colab": {
     "base_uri": "https://localhost:8080/",
     "height": 115
    },
    "executionInfo": {
     "elapsed": 410,
     "status": "ok",
     "timestamp": 1732716417369,
     "user": {
      "displayName": "Sinon",
      "userId": "16288430148689218724"
     },
     "user_tz": -330
    },
    "id": "q8iiAKy95CnB",
    "outputId": "f39505a6-ae8a-4678-8675-f8f2ef495038"
   },
   "outputs": [],
   "source": [
    "movies.head(1)"
   ]
  },
  {
   "cell_type": "code",
   "execution_count": null,
   "metadata": {
    "colab": {
     "base_uri": "https://localhost:8080/",
     "height": 335
    },
    "executionInfo": {
     "elapsed": 431,
     "status": "ok",
     "timestamp": 1732716419933,
     "user": {
      "displayName": "Sinon",
      "userId": "16288430148689218724"
     },
     "user_tz": -330
    },
    "id": "-TukoL1E5b9y",
    "outputId": "51762d92-a3e5-45c6-aca9-763eb8a69393"
   },
   "outputs": [],
   "source": [
    "movies.isnull().sum()"
   ]
  },
  {
   "cell_type": "code",
   "execution_count": null,
   "metadata": {
    "executionInfo": {
     "elapsed": 2,
     "status": "ok",
     "timestamp": 1732716422243,
     "user": {
      "displayName": "Sinon",
      "userId": "16288430148689218724"
     },
     "user_tz": -330
    },
    "id": "xCF_Eg6t5_wh"
   },
   "outputs": [],
   "source": [
    "movies = movies.dropna()"
   ]
  },
  {
   "cell_type": "code",
   "execution_count": null,
   "metadata": {
    "colab": {
     "base_uri": "https://localhost:8080/",
     "height": 874
    },
    "executionInfo": {
     "elapsed": 442,
     "status": "ok",
     "timestamp": 1732716424828,
     "user": {
      "displayName": "Sinon",
      "userId": "16288430148689218724"
     },
     "user_tz": -330
    },
    "id": "dv3gmXCM7QWd",
    "outputId": "332e59d8-38c8-4fb3-db7f-fe6b518b8b0c"
   },
   "outputs": [],
   "source": [
    "movies"
   ]
  },
  {
   "cell_type": "code",
   "execution_count": null,
   "metadata": {
    "executionInfo": {
     "elapsed": 407,
     "status": "ok",
     "timestamp": 1732716429232,
     "user": {
      "displayName": "Sinon",
      "userId": "16288430148689218724"
     },
     "user_tz": -330
    },
    "id": "7kzThyXh7QWd"
   },
   "outputs": [],
   "source": [
    "movies = movies[[\"imdb_id_formatted\",\"title\",\"overview\",\"genres\",\"original_language\",\"posters\"]]"
   ]
  },
  {
   "cell_type": "code",
   "execution_count": null,
   "metadata": {
    "colab": {
     "base_uri": "https://localhost:8080/",
     "height": 98
    },
    "executionInfo": {
     "elapsed": 513,
     "status": "ok",
     "timestamp": 1732716431213,
     "user": {
      "displayName": "Sinon",
      "userId": "16288430148689218724"
     },
     "user_tz": -330
    },
    "id": "B0oo3lAA7QWd",
    "outputId": "5486d9b2-9123-456f-f477-0d3cdd4dbcdf"
   },
   "outputs": [],
   "source": [
    "movies.head(1)"
   ]
  },
  {
   "cell_type": "code",
   "execution_count": null,
   "metadata": {
    "executionInfo": {
     "elapsed": 408,
     "status": "ok",
     "timestamp": 1732716435329,
     "user": {
      "displayName": "Sinon",
      "userId": "16288430148689218724"
     },
     "user_tz": -330
    },
    "id": "_-6_eexm7QWe"
   },
   "outputs": [],
   "source": [
    "movies = movies.rename(columns={movies.columns[0]:\"imdb_id\", movies.columns[4]:\"language\", movies.columns[5]:\"poster_links\"})"
   ]
  },
  {
   "cell_type": "code",
   "execution_count": null,
   "metadata": {
    "colab": {
     "base_uri": "https://localhost:8080/",
     "height": 81
    },
    "executionInfo": {
     "elapsed": 447,
     "status": "ok",
     "timestamp": 1732716439439,
     "user": {
      "displayName": "Sinon",
      "userId": "16288430148689218724"
     },
     "user_tz": -330
    },
    "id": "OQa6S7IK7QWe",
    "outputId": "45361083-c2d5-41ba-f028-a14664ba172f"
   },
   "outputs": [],
   "source": [
    "movies.head(1)"
   ]
  },
  {
   "cell_type": "code",
   "execution_count": null,
   "metadata": {
    "executionInfo": {
     "elapsed": 397,
     "status": "ok",
     "timestamp": 1732716442120,
     "user": {
      "displayName": "Sinon",
      "userId": "16288430148689218724"
     },
     "user_tz": -330
    },
    "id": "zdA2yrlI7QWe"
   },
   "outputs": [],
   "source": [
    "movies[\"genres\"] = movies[\"genres\"].apply(lambda x: x.split('|') if isinstance(x, str) else [])\n"
   ]
  },
  {
   "cell_type": "code",
   "execution_count": null,
   "metadata": {
    "colab": {
     "base_uri": "https://localhost:8080/",
     "height": 458
    },
    "executionInfo": {
     "elapsed": 474,
     "status": "ok",
     "timestamp": 1732716444598,
     "user": {
      "displayName": "Sinon",
      "userId": "16288430148689218724"
     },
     "user_tz": -330
    },
    "id": "sJypb7y37QWe",
    "outputId": "3e2d08d3-35a4-4620-865f-276aab58170e"
   },
   "outputs": [],
   "source": [
    "movies.genres"
   ]
  },
  {
   "cell_type": "code",
   "execution_count": null,
   "metadata": {
    "colab": {
     "base_uri": "https://localhost:8080/",
     "height": 81
    },
    "executionInfo": {
     "elapsed": 422,
     "status": "ok",
     "timestamp": 1732716448364,
     "user": {
      "displayName": "Sinon",
      "userId": "16288430148689218724"
     },
     "user_tz": -330
    },
    "id": "R8mXPASC7QWe",
    "outputId": "a683891a-046f-4226-fa68-13d1cf9d0ded"
   },
   "outputs": [],
   "source": [
    "movies.head(1)"
   ]
  },
  {
   "cell_type": "code",
   "execution_count": null,
   "metadata": {
    "executionInfo": {
     "elapsed": 490,
     "status": "ok",
     "timestamp": 1732716451949,
     "user": {
      "displayName": "Sinon",
      "userId": "16288430148689218724"
     },
     "user_tz": -330
    },
    "id": "94upAl5D7QWe"
   },
   "outputs": [],
   "source": [
    "movies[\"overview\"] = movies[\"overview\"].apply(lambda x: x.split() if isinstance(x, str) else [])\n"
   ]
  },
  {
   "cell_type": "code",
   "execution_count": null,
   "metadata": {
    "colab": {
     "base_uri": "https://localhost:8080/",
     "height": 81
    },
    "executionInfo": {
     "elapsed": 435,
     "status": "ok",
     "timestamp": 1732716454600,
     "user": {
      "displayName": "Sinon",
      "userId": "16288430148689218724"
     },
     "user_tz": -330
    },
    "id": "g0JHhGmd7QWe",
    "outputId": "9198ec96-ef37-449c-d169-36a8c815fa1b"
   },
   "outputs": [],
   "source": [
    "movies.head(1)"
   ]
  },
  {
   "cell_type": "code",
   "execution_count": null,
   "metadata": {
    "executionInfo": {
     "elapsed": 459,
     "status": "ok",
     "timestamp": 1732716457431,
     "user": {
      "displayName": "Sinon",
      "userId": "16288430148689218724"
     },
     "user_tz": -330
    },
    "id": "ixObbyTl7QWf"
   },
   "outputs": [],
   "source": [
    "movies[\"language\"] = movies[\"language\"].apply(lambda x: x.split() if isinstance(x, str) else [])\n"
   ]
  },
  {
   "cell_type": "code",
   "execution_count": null,
   "metadata": {
    "colab": {
     "base_uri": "https://localhost:8080/",
     "height": 293
    },
    "executionInfo": {
     "elapsed": 404,
     "status": "ok",
     "timestamp": 1732716459350,
     "user": {
      "displayName": "Sinon",
      "userId": "16288430148689218724"
     },
     "user_tz": -330
    },
    "id": "AolTN-dr7QWf",
    "outputId": "ea1e58bc-999b-4a8c-e687-d96179741983"
   },
   "outputs": [],
   "source": [
    "movies.head()"
   ]
  },
  {
   "cell_type": "code",
   "execution_count": null,
   "metadata": {
    "executionInfo": {
     "elapsed": 394,
     "status": "ok",
     "timestamp": 1732716462773,
     "user": {
      "displayName": "Sinon",
      "userId": "16288430148689218724"
     },
     "user_tz": -330
    },
    "id": "qv4Fw8YW7QWf"
   },
   "outputs": [],
   "source": [
    "movies[\"tags\"] = movies[\"overview\"] + movies[\"genres\"] + movies[\"language\"]"
   ]
  },
  {
   "cell_type": "code",
   "execution_count": null,
   "metadata": {
    "colab": {
     "base_uri": "https://localhost:8080/",
     "height": 98
    },
    "executionInfo": {
     "elapsed": 394,
     "status": "ok",
     "timestamp": 1732716464561,
     "user": {
      "displayName": "Sinon",
      "userId": "16288430148689218724"
     },
     "user_tz": -330
    },
    "id": "So_3zcU57QWf",
    "outputId": "05fdf10a-50df-4f36-b9c6-0b984dcf48f2"
   },
   "outputs": [],
   "source": [
    "movies.head(1)"
   ]
  },
  {
   "cell_type": "code",
   "execution_count": null,
   "metadata": {
    "executionInfo": {
     "elapsed": 447,
     "status": "ok",
     "timestamp": 1732716467059,
     "user": {
      "displayName": "Sinon",
      "userId": "16288430148689218724"
     },
     "user_tz": -330
    },
    "id": "m8q2xQ3k7QWf"
   },
   "outputs": [],
   "source": [
    "movies[\"tags\"] = movies[\"tags\"].apply(lambda x: [a.lower() for a in x])"
   ]
  },
  {
   "cell_type": "code",
   "execution_count": null,
   "metadata": {
    "colab": {
     "base_uri": "https://localhost:8080/",
     "height": 98
    },
    "executionInfo": {
     "elapsed": 423,
     "status": "ok",
     "timestamp": 1732716469017,
     "user": {
      "displayName": "Sinon",
      "userId": "16288430148689218724"
     },
     "user_tz": -330
    },
    "id": "qBPvhEKb7QWf",
    "outputId": "a0e638f2-78f0-4807-887d-0bfda0746651"
   },
   "outputs": [],
   "source": [
    "movies.head(1)"
   ]
  },
  {
   "cell_type": "code",
   "execution_count": null,
   "metadata": {
    "executionInfo": {
     "elapsed": 421,
     "status": "ok",
     "timestamp": 1732716471379,
     "user": {
      "displayName": "Sinon",
      "userId": "16288430148689218724"
     },
     "user_tz": -330
    },
    "id": "I-Q_GijC7QWf"
   },
   "outputs": [],
   "source": [
    "del(movies[\"overview\"])\n",
    "del(movies[\"genres\"])\n",
    "del(movies[\"language\"])"
   ]
  },
  {
   "cell_type": "code",
   "execution_count": null,
   "metadata": {
    "executionInfo": {
     "elapsed": 487,
     "status": "ok",
     "timestamp": 1732716491817,
     "user": {
      "displayName": "Sinon",
      "userId": "16288430148689218724"
     },
     "user_tz": -330
    },
    "id": "KDH2cBWj8zoe"
   },
   "outputs": [],
   "source": [
    "movies = movies.sort_values(by='title', ascending=True)"
   ]
  },
  {
   "cell_type": "code",
   "execution_count": null,
   "metadata": {
    "colab": {
     "base_uri": "https://localhost:8080/",
     "height": 81
    },
    "executionInfo": {
     "elapsed": 481,
     "status": "ok",
     "timestamp": 1732716494729,
     "user": {
      "displayName": "Sinon",
      "userId": "16288430148689218724"
     },
     "user_tz": -330
    },
    "id": "V2yC_odS7QWf",
    "outputId": "637ee370-1612-490f-e632-713690c548b0"
   },
   "outputs": [],
   "source": [
    "movies.head(1)"
   ]
  },
  {
   "cell_type": "code",
   "execution_count": null,
   "metadata": {
    "executionInfo": {
     "elapsed": 10206,
     "status": "ok",
     "timestamp": 1732716509787,
     "user": {
      "displayName": "Sinon",
      "userId": "16288430148689218724"
     },
     "user_tz": -330
    },
    "id": "eUp2qid17QWf"
   },
   "outputs": [],
   "source": [
    "from nltk.stem import PorterStemmer\n",
    "\n",
    "ps = PorterStemmer()"
   ]
  },
  {
   "cell_type": "code",
   "execution_count": null,
   "metadata": {
    "executionInfo": {
     "elapsed": 4,
     "status": "ok",
     "timestamp": 1732716513746,
     "user": {
      "displayName": "Sinon",
      "userId": "16288430148689218724"
     },
     "user_tz": -330
    },
    "id": "3YhTOpwR7QWg"
   },
   "outputs": [],
   "source": [
    "# Define the stemming function\n",
    "def stem_text(text):\n",
    "    return \" \".join([ps.stem(word) for word in text.split()])"
   ]
  },
  {
   "cell_type": "code",
   "execution_count": null,
   "metadata": {
    "executionInfo": {
     "elapsed": 413,
     "status": "ok",
     "timestamp": 1732716517515,
     "user": {
      "displayName": "Sinon",
      "userId": "16288430148689218724"
     },
     "user_tz": -330
    },
    "id": "ywQ0Kr-07QWg"
   },
   "outputs": [],
   "source": [
    "movies[\"tags\"] = movies[\"tags\"].apply(lambda x:\" \".join(x))"
   ]
  },
  {
   "cell_type": "code",
   "execution_count": null,
   "metadata": {
    "executionInfo": {
     "elapsed": 27292,
     "status": "ok",
     "timestamp": 1732716546792,
     "user": {
      "displayName": "Sinon",
      "userId": "16288430148689218724"
     },
     "user_tz": -330
    },
    "id": "IE6A6wOD7QWg"
   },
   "outputs": [],
   "source": [
    "movies[\"tags\"] = movies[\"tags\"].apply(stem_text)"
   ]
  },
  {
   "cell_type": "code",
   "execution_count": null,
   "metadata": {
    "colab": {
     "base_uri": "https://localhost:8080/",
     "height": 81
    },
    "executionInfo": {
     "elapsed": 8,
     "status": "ok",
     "timestamp": 1732716549819,
     "user": {
      "displayName": "Sinon",
      "userId": "16288430148689218724"
     },
     "user_tz": -330
    },
    "id": "zd54WxcF7QWg",
    "outputId": "ee36e95e-5088-4a06-8116-83cd94561870"
   },
   "outputs": [],
   "source": [
    "movies.head(1)"
   ]
  },
  {
   "cell_type": "code",
   "execution_count": null,
   "metadata": {
    "executionInfo": {
     "elapsed": 398,
     "status": "ok",
     "timestamp": 1732716553899,
     "user": {
      "displayName": "Sinon",
      "userId": "16288430148689218724"
     },
     "user_tz": -330
    },
    "id": "fs8-Ir5I7QWg"
   },
   "outputs": [],
   "source": [
    "from sklearn.feature_extraction.text import CountVectorizer\n",
    "cv = CountVectorizer(max_features=1000, stop_words='english')"
   ]
  },
  {
   "cell_type": "code",
   "execution_count": null,
   "metadata": {
    "executionInfo": {
     "elapsed": 2167,
     "status": "ok",
     "timestamp": 1732716558866,
     "user": {
      "displayName": "Sinon",
      "userId": "16288430148689218724"
     },
     "user_tz": -330
    },
    "id": "wc8ql8_17QWg"
   },
   "outputs": [],
   "source": [
    "fitted_vector = cv.fit_transform(movies[\"tags\"]).toarray()"
   ]
  },
  {
   "cell_type": "code",
   "execution_count": null,
   "metadata": {
    "colab": {
     "base_uri": "https://localhost:8080/"
    },
    "executionInfo": {
     "elapsed": 3,
     "status": "ok",
     "timestamp": 1732716560299,
     "user": {
      "displayName": "Sinon",
      "userId": "16288430148689218724"
     },
     "user_tz": -330
    },
    "id": "SE1JjZmp7QWh",
    "outputId": "dd4205be-4c1d-464c-cc0b-9a09930c5459"
   },
   "outputs": [],
   "source": [
    "print(fitted_vector[0])"
   ]
  },
  {
   "cell_type": "code",
   "execution_count": null,
   "metadata": {
    "colab": {
     "base_uri": "https://localhost:8080/"
    },
    "executionInfo": {
     "elapsed": 504,
     "status": "ok",
     "timestamp": 1732716567129,
     "user": {
      "displayName": "Sinon",
      "userId": "16288430148689218724"
     },
     "user_tz": -330
    },
    "id": "R_WWbr647QWl",
    "outputId": "ab08b401-3dd4-4df7-996a-47fa313afff0"
   },
   "outputs": [],
   "source": [
    "print(cv.get_feature_names_out())"
   ]
  },
  {
   "cell_type": "code",
   "execution_count": null,
   "metadata": {
    "colab": {
     "base_uri": "https://localhost:8080/",
     "height": 147
    },
    "executionInfo": {
     "elapsed": 659,
     "status": "ok",
     "timestamp": 1732716574974,
     "user": {
      "displayName": "Sinon",
      "userId": "16288430148689218724"
     },
     "user_tz": -330
    },
    "id": "KjevmE1p7QWl",
    "outputId": "779256ab-9b43-4767-8b65-d4210ea162c8"
   },
   "outputs": [],
   "source": [
    "movies[\"tags\"].head(2)"
   ]
  },
  {
   "cell_type": "code",
   "execution_count": null,
   "metadata": {
    "executionInfo": {
     "elapsed": 385,
     "status": "ok",
     "timestamp": 1732716596891,
     "user": {
      "displayName": "Sinon",
      "userId": "16288430148689218724"
     },
     "user_tz": -330
    },
    "id": "Io-dOq3a7QWl"
   },
   "outputs": [],
   "source": [
    "from sklearn.metrics.pairwise import cosine_similarity"
   ]
  },
  {
   "cell_type": "code",
   "execution_count": null,
   "metadata": {
    "executionInfo": {
     "elapsed": 51193,
     "status": "ok",
     "timestamp": 1732716652231,
     "user": {
      "displayName": "Sinon",
      "userId": "16288430148689218724"
     },
     "user_tz": -330
    },
    "id": "4LktNySY7QWl"
   },
   "outputs": [],
   "source": [
    "similarity=cosine_similarity(fitted_vector)"
   ]
  },
  {
   "cell_type": "code",
   "execution_count": null,
   "metadata": {
    "executionInfo": {
     "elapsed": 397,
     "status": "ok",
     "timestamp": 1732716669582,
     "user": {
      "displayName": "Sinon",
      "userId": "16288430148689218724"
     },
     "user_tz": -330
    },
    "id": "e60WQTs_7QWl"
   },
   "outputs": [],
   "source": [
    "def recommend_movies(movie):\n",
    "\n",
    "    movie_index = movies[movies['title'] == movie].index[0]\n",
    "    distances = similarity[movie_index]\n",
    "    movies_list = sorted(list(enumerate(distances)), reverse=True, key=lambda x: x[1])[1:6]\n",
    "\n",
    "    print(\"Recommended movies:\")\n",
    "    for i in movies_list:\n",
    "        print(movies.iloc[i[0]]['title'])"
   ]
  },
  {
   "cell_type": "code",
   "execution_count": null,
   "metadata": {
    "colab": {
     "base_uri": "https://localhost:8080/"
    },
    "executionInfo": {
     "elapsed": 655,
     "status": "ok",
     "timestamp": 1732716677216,
     "user": {
      "displayName": "Sinon",
      "userId": "16288430148689218724"
     },
     "user_tz": -330
    },
    "id": "wD0FGfZB9iYn",
    "outputId": "c947dc24-c4ee-4e4a-e6aa-bb1d9cb08470"
   },
   "outputs": [],
   "source": [
    "recommend_movies(\"Alice in Wonderland\")"
   ]
  },
  {
   "cell_type": "code",
   "execution_count": null,
   "metadata": {
    "colab": {
     "base_uri": "https://localhost:8080/"
    },
    "executionInfo": {
     "elapsed": 428,
     "status": "ok",
     "timestamp": 1732716685363,
     "user": {
      "displayName": "Sinon",
      "userId": "16288430148689218724"
     },
     "user_tz": -330
    },
    "id": "bcd3iZnj9kMk",
    "outputId": "18b4b168-eaaa-4742-dd98-1876df123476"
   },
   "outputs": [],
   "source": [
    "recommend_movies(\"Robin Hood\")"
   ]
  },
  {
   "cell_type": "code",
   "execution_count": null,
   "metadata": {
    "colab": {
     "base_uri": "https://localhost:8080/"
    },
    "executionInfo": {
     "elapsed": 402,
     "status": "ok",
     "timestamp": 1732716695278,
     "user": {
      "displayName": "Sinon",
      "userId": "16288430148689218724"
     },
     "user_tz": -330
    },
    "id": "wYxZVovD9mN9",
    "outputId": "abd104d6-b6ae-4caf-848f-43ed182d7628"
   },
   "outputs": [],
   "source": [
    "recommend_movies(\"Titanic\")"
   ]
  },
  {
   "cell_type": "code",
   "execution_count": null,
   "metadata": {
    "executionInfo": {
     "elapsed": 406,
     "status": "ok",
     "timestamp": 1732716707969,
     "user": {
      "displayName": "Sinon",
      "userId": "16288430148689218724"
     },
     "user_tz": -330
    },
    "id": "eLgVzEnw9opx"
   },
   "outputs": [],
   "source": [
    "import pickle"
   ]
  },
  {
   "cell_type": "code",
   "execution_count": null,
   "metadata": {
    "executionInfo": {
     "elapsed": 507,
     "status": "ok",
     "timestamp": 1732716714692,
     "user": {
      "displayName": "Sinon",
      "userId": "16288430148689218724"
     },
     "user_tz": -330
    },
    "id": "Hpfgxd4O9rxD"
   },
   "outputs": [],
   "source": [
    "pickle.dump(movies,open('movie_list.pkl','wb'))"
   ]
  },
  {
   "cell_type": "code",
   "execution_count": null,
   "metadata": {
    "executionInfo": {
     "elapsed": 401,
     "status": "ok",
     "timestamp": 1732716722392,
     "user": {
      "displayName": "Sinon",
      "userId": "16288430148689218724"
     },
     "user_tz": -330
    },
    "id": "aeYyf4vr9tYC"
   },
   "outputs": [],
   "source": [
    "pickle.dump(movies.to_dict(),open(\"movie_dict.pkl\",\"wb\"))"
   ]
  },
  {
   "cell_type": "code",
   "execution_count": null,
   "metadata": {
    "executionInfo": {
     "elapsed": 56234,
     "status": "ok",
     "timestamp": 1732716793448,
     "user": {
      "displayName": "Sinon",
      "userId": "16288430148689218724"
     },
     "user_tz": -330
    },
    "id": "KAn7sGVA9vRW"
   },
   "outputs": [],
   "source": [
    "pickle.dump(similarity,open(\"similarity.pkl\",\"wb\"))"
   ]
  }
 ],
 "metadata": {
  "accelerator": "TPU",
  "colab": {
   "gpuType": "V28",
   "provenance": []
  },
  "kernelspec": {
   "display_name": "env",
   "language": "python",
   "name": "python3"
  },
  "language_info": {
   "codemirror_mode": {
    "name": "ipython",
    "version": 3
   },
   "file_extension": ".py",
   "mimetype": "text/x-python",
   "name": "python",
   "nbconvert_exporter": "python",
   "pygments_lexer": "ipython3",
   "version": "3.12.6"
  }
 },
 "nbformat": 4,
 "nbformat_minor": 0
}
